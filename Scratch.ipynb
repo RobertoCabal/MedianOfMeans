{
 "cells": [
  {
   "cell_type": "code",
   "execution_count": 1,
   "metadata": {},
   "outputs": [],
   "source": [
    "from robust_estimation.MoM import MoM\n",
    "import numpy as np\n",
    "from scipy.stats import t\n",
    "\n",
    "x = t.rvs(df=2, size=500)\n",
    "\n",
    "def test_MoM():\n",
    "    assert type(MoM(x,10))==np.float64\n",
    "    assert type(MoM(x,15))==str"
   ]
  },
  {
   "cell_type": "code",
   "execution_count": 6,
   "metadata": {},
   "outputs": [],
   "source": [
    "test_MoM()"
   ]
  }
 ],
 "metadata": {
  "kernelspec": {
   "display_name": "Python 3",
   "language": "python",
   "name": "python3"
  },
  "language_info": {
   "codemirror_mode": {
    "name": "ipython",
    "version": 3
   },
   "file_extension": ".py",
   "mimetype": "text/x-python",
   "name": "python",
   "nbconvert_exporter": "python",
   "pygments_lexer": "ipython3",
   "version": "3.7.3"
  }
 },
 "nbformat": 4,
 "nbformat_minor": 4
}
